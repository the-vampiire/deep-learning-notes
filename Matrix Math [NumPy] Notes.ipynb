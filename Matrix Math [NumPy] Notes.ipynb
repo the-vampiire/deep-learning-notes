{
 "cells": [
  {
   "cell_type": "markdown",
   "metadata": {},
   "source": [
    "## Notebook Dependencies"
   ]
  },
  {
   "cell_type": "code",
   "execution_count": 2,
   "metadata": {
    "collapsed": true
   },
   "outputs": [],
   "source": [
    "import numpy as np"
   ]
  },
  {
   "cell_type": "markdown",
   "metadata": {},
   "source": [
    "***"
   ]
  },
  {
   "cell_type": "markdown",
   "metadata": {},
   "source": [
    "# Element-wise Matrix Operations\n",
    "### Great video on the subject\n",
    "- [Udacity: Element-wise Matrix Operations](https://www.youtube.com/watch?v=vjUykZyzko4) "
   ]
  },
  {
   "cell_type": "markdown",
   "metadata": {},
   "source": [
    "## Scalar and Matrix\n",
    "- __scalar__ [`+ - * / // ** %`] __matrix__\n",
    "- __matrix can be any shape__\n",
    "- applies the operator to the scalar across every element in the matrix clockwise\n",
    "- __note__: the `**` [exponent/power] operator format __`base ** exponent`__"
   ]
  },
  {
   "cell_type": "code",
   "execution_count": 5,
   "metadata": {
    "collapsed": true
   },
   "outputs": [
    {
     "name": "stdout",
     "output_type": "stream",
     "text": [
      "[[ 6  7  8]\n",
      " [ 8  9 10]] \n",
      "\n",
      "[[4 3 2]\n",
      " [2 1 0]] \n",
      "\n",
      "[[ 5 10 15]\n",
      " [15 20 25]] \n",
      "\n",
      "[[ 5.          2.5         1.66666667]\n",
      " [ 1.66666667  1.25        1.        ]] \n",
      "\n",
      "[[5 2 1]\n",
      " [1 1 1]] \n",
      "\n",
      "[[   5   25  125]\n",
      " [ 125  625 3125]] \n",
      "\n",
      "[[   1   32  243]\n",
      " [ 243 1024 3125]] \n",
      "\n",
      "[[0 1 2]\n",
      " [2 1 0]] \n",
      "\n",
      "5\n",
      "[[1 2 3]\n",
      " [3 4 5]]\n"
     ]
    }
   ],
   "source": [
    "scalar = 5\n",
    "matrix = np.array([[1, 2, 3], [3, 4, 5]])\n",
    "\n",
    "print(scalar +  matrix, '\\n')  # addition\n",
    "print(scalar -  matrix, '\\n')  # subtraction\n",
    "print(scalar *  matrix, '\\n')  # multiplication\n",
    "print(scalar /  matrix, '\\n')  # floating point division\n",
    "print(scalar // matrix, '\\n')  # floor division\n",
    "print(scalar ** matrix, '\\n')  # exponent/power - scalar raised to power of each matrix element\n",
    "print(matrix ** scalar, '\\n')  # exponent/power - each matrix element raised to power of the scalar\n",
    "print(scalar %  matrix, '\\n')  # modulus\n",
    "\n",
    "print(\"{}\\n{}\".format(scalar, matrix))   # does not affect the original variables"
   ]
  },
  {
   "cell_type": "markdown",
   "metadata": {},
   "source": [
    "***"
   ]
  },
  {
   "cell_type": "markdown",
   "metadata": {},
   "source": [
    "## Matrix and Matrix\n",
    "- __matrix1__ [`+ - * / // ** %`] __matrix2__\n",
    "- __matrices must be the same shape__\n",
    "- applies the operator to every element in each matrix per their corresponding indices\n",
    "- outputs the answer for each operation in the corresponding index of the answer matrix\n",
    "- __note__: the `**` [exponent/power] operator format __`base ** exponent`__"
   ]
  },
  {
   "cell_type": "code",
   "execution_count": 8,
   "metadata": {
    "collapsed": true
   },
   "outputs": [
    {
     "name": "stdout",
     "output_type": "stream",
     "text": [
      "[[6 6 6]\n",
      " [5 5 5]] \n",
      "\n",
      "[[ 4  2  0]\n",
      " [-1 -3 -5]] \n",
      "\n",
      "[[5 8 9]\n",
      " [6 4 0]] \n",
      "\n",
      "[[ 5.          2.          1.        ]\n",
      " [ 0.66666667  0.25        0.        ]] \n",
      "\n",
      "[[5 2 1]\n",
      " [0 0 0]] \n",
      "\n",
      "[[ 5 16 27]\n",
      " [ 8  1  0]] \n",
      "\n",
      "[[ 1 16 27]\n",
      " [ 9  4  1]] \n",
      "\n",
      "[[0 0 0]\n",
      " [2 1 0]] \n",
      "\n",
      "[[5 4 3]\n",
      " [2 1 0]]\n",
      "[[1 2 3]\n",
      " [3 4 5]]\n"
     ]
    }
   ],
   "source": [
    "matrix1 = np.array([[5, 4, 3], [2, 1, 0]])\n",
    "matrix2 = np.array([[1, 2, 3], [3, 4, 5]])\n",
    "\n",
    "print(matrix1 +  matrix2, '\\n')  # addition\n",
    "print(matrix1 -  matrix2, '\\n')  # subtraction\n",
    "print(matrix1 *  matrix2, '\\n')  # multiplication\n",
    "print(matrix1 /  matrix2, '\\n')  # floating point division\n",
    "print(matrix1 // matrix2, '\\n')  # floor division\n",
    "print(matrix1 ** matrix2, '\\n')  # exponent/power - scalar raised to power of each matrix element\n",
    "print(matrix2 ** matrix1, '\\n')  # exponent/power - each matrix element raised to power of the scalar\n",
    "print(matrix1 %  matrix2, '\\n')  # modulus\n",
    "\n",
    "print(\"{}\\n{}\".format(matrix1, matrix2))   # does not affect the original variables"
   ]
  },
  {
   "cell_type": "markdown",
   "metadata": {},
   "source": [
    "***"
   ]
  },
  {
   "cell_type": "markdown",
   "metadata": {},
   "source": [
    "# Matrix Multiplication\n",
    "### Great video on the subject\n",
    "- [Udacity: Matrix Multiplication](https://www.youtube.com/watch?v=JRoCFQRP4B0)"
   ]
  },
  {
   "cell_type": "markdown",
   "metadata": {},
   "source": [
    "## Dot Product [Matrix Product]\n",
    "- __does not adhere to element-wise operations__"
   ]
  },
  {
   "cell_type": "code",
   "execution_count": null,
   "metadata": {
    "collapsed": true
   },
   "outputs": [],
   "source": []
  }
 ],
 "metadata": {
  "kernelspec": {
   "display_name": "Python [conda env:anaconda3]",
   "language": "python",
   "name": "conda-env-anaconda3-py"
  },
  "language_info": {
   "codemirror_mode": {
    "name": "ipython",
    "version": 3
   },
   "file_extension": ".py",
   "mimetype": "text/x-python",
   "name": "python",
   "nbconvert_exporter": "python",
   "pygments_lexer": "ipython3",
   "version": "3.6.3"
  }
 },
 "nbformat": 4,
 "nbformat_minor": 2
}
